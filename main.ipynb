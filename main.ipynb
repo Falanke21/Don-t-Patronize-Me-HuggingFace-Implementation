{
 "cells": [
  {
   "cell_type": "code",
   "execution_count": 36,
   "metadata": {},
   "outputs": [],
   "source": [
    "import pandas as pd\n",
    "import numpy as np\n",
    "import torch\n",
    "from sklearn.model_selection import train_test_split"
   ]
  },
  {
   "cell_type": "code",
   "execution_count": 8,
   "metadata": {},
   "outputs": [],
   "source": [
    "train_ids = pd.read_csv('train_semeval_parids-labels.csv')\n",
    "test_ids = pd.read_csv('dev_semeval_parids-labels.csv')\n",
    "\n",
    "train_ids = train_ids['par_id']\n",
    "test_ids = test_ids['par_id']"
   ]
  },
  {
   "cell_type": "code",
   "execution_count": 39,
   "metadata": {},
   "outputs": [],
   "source": [
    "data = pd.read_csv('dontpatronizeme_pcl.tsv', sep='\\t', header=None, names=['par_id', 'art_id', 'keyword', 'country_code', 'text', 'label'])\n",
    "\n",
    "data = data.drop('art_id', axis=1)\n",
    "data = data.drop('keyword', axis=1)\n",
    "data = data.drop('country_code', axis=1)\n",
    "# map labels to 0 and 1(Non-PCL and PCL)\n",
    "data['label'] = data['label'].apply(lambda x: 0 if x == 0 or x == 1 else 1)"
   ]
  },
  {
   "cell_type": "code",
   "execution_count": 44,
   "metadata": {},
   "outputs": [],
   "source": [
    "train_data = data[data['par_id'].isin(train_ids)]\n",
    "test_data = data[data['par_id'].isin(test_ids)]\n",
    "\n",
    "train_data = train_data.drop('par_id', axis=1)\n",
    "test_data = test_data.drop('par_id', axis=1)\n",
    "\n",
    "# split the validation set from the training set\n",
    "train_data, val_data = train_test_split(train_data, test_size=0.1, random_state=42)"
   ]
  },
  {
   "cell_type": "code",
   "execution_count": 53,
   "metadata": {},
   "outputs": [],
   "source": [
    "# save the data\n",
    "train_data.to_csv('train_data.csv', index=False)\n",
    "val_data.to_csv('val_data.csv', index=False)\n",
    "test_data.to_csv('test_data.csv', index=False)"
   ]
  }
 ],
 "metadata": {
  "kernelspec": {
   "display_name": "pytorch",
   "language": "python",
   "name": "python3"
  },
  "language_info": {
   "codemirror_mode": {
    "name": "ipython",
    "version": 3
   },
   "file_extension": ".py",
   "mimetype": "text/x-python",
   "name": "python",
   "nbconvert_exporter": "python",
   "pygments_lexer": "ipython3",
   "version": "3.9.12"
  },
  "orig_nbformat": 4,
  "vscode": {
   "interpreter": {
    "hash": "9bf3454d8134cf31c53930b86a97c38f4c38d2a7205730a8063b2bb452273ba7"
   }
  }
 },
 "nbformat": 4,
 "nbformat_minor": 2
}
