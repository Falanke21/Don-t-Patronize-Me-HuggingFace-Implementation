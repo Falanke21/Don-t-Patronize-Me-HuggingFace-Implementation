{
 "cells": [
  {
   "cell_type": "code",
   "execution_count": 18,
   "metadata": {},
   "outputs": [],
   "source": [
    "import pandas as pd\n",
    "import numpy as np\n",
    "import torch\n",
    "from sklearn.model_selection import train_test_split\n",
    "import matplotlib.pyplot as plt"
   ]
  },
  {
   "cell_type": "code",
   "execution_count": 19,
   "metadata": {},
   "outputs": [],
   "source": [
    "train_ids = pd.read_csv('train_semeval_parids-labels.csv')\n",
    "test_ids = pd.read_csv('dev_semeval_parids-labels.csv')\n",
    "\n",
    "train_ids = train_ids['par_id']\n",
    "test_ids = test_ids['par_id']"
   ]
  },
  {
   "cell_type": "code",
   "execution_count": 20,
   "metadata": {},
   "outputs": [
    {
     "data": {
      "text/html": [
       "<div>\n",
       "<style scoped>\n",
       "    .dataframe tbody tr th:only-of-type {\n",
       "        vertical-align: middle;\n",
       "    }\n",
       "\n",
       "    .dataframe tbody tr th {\n",
       "        vertical-align: top;\n",
       "    }\n",
       "\n",
       "    .dataframe thead th {\n",
       "        text-align: right;\n",
       "    }\n",
       "</style>\n",
       "<table border=\"1\" class=\"dataframe\">\n",
       "  <thead>\n",
       "    <tr style=\"text-align: right;\">\n",
       "      <th></th>\n",
       "      <th>par_id</th>\n",
       "      <th>art_id</th>\n",
       "      <th>keyword</th>\n",
       "      <th>country_code</th>\n",
       "      <th>text</th>\n",
       "      <th>label</th>\n",
       "    </tr>\n",
       "  </thead>\n",
       "  <tbody>\n",
       "    <tr>\n",
       "      <th>0</th>\n",
       "      <td>4046</td>\n",
       "      <td>@@14767805</td>\n",
       "      <td>hopeless</td>\n",
       "      <td>us</td>\n",
       "      <td>We also know that they can benefit by receivin...</td>\n",
       "      <td>3</td>\n",
       "    </tr>\n",
       "    <tr>\n",
       "      <th>1</th>\n",
       "      <td>1279</td>\n",
       "      <td>@@7896098</td>\n",
       "      <td>refugee</td>\n",
       "      <td>ng</td>\n",
       "      <td>Pope Francis washed and kissed the feet of Mus...</td>\n",
       "      <td>4</td>\n",
       "    </tr>\n",
       "    <tr>\n",
       "      <th>2</th>\n",
       "      <td>8330</td>\n",
       "      <td>@@17252299</td>\n",
       "      <td>refugee</td>\n",
       "      <td>ng</td>\n",
       "      <td>Many refugees do n't want to be resettled anyw...</td>\n",
       "      <td>2</td>\n",
       "    </tr>\n",
       "    <tr>\n",
       "      <th>3</th>\n",
       "      <td>4063</td>\n",
       "      <td>@@3002894</td>\n",
       "      <td>in-need</td>\n",
       "      <td>ie</td>\n",
       "      <td>Budding chefs , like \" Fred \" , \" Winston \" an...</td>\n",
       "      <td>4</td>\n",
       "    </tr>\n",
       "    <tr>\n",
       "      <th>4</th>\n",
       "      <td>4089</td>\n",
       "      <td>@@25597822</td>\n",
       "      <td>homeless</td>\n",
       "      <td>pk</td>\n",
       "      <td>In a 90-degree view of his constituency , one ...</td>\n",
       "      <td>3</td>\n",
       "    </tr>\n",
       "  </tbody>\n",
       "</table>\n",
       "</div>"
      ],
      "text/plain": [
       "   par_id      art_id   keyword country_code  \\\n",
       "0    4046  @@14767805  hopeless           us   \n",
       "1    1279   @@7896098   refugee           ng   \n",
       "2    8330  @@17252299   refugee           ng   \n",
       "3    4063   @@3002894   in-need           ie   \n",
       "4    4089  @@25597822  homeless           pk   \n",
       "\n",
       "                                                text  label  \n",
       "0  We also know that they can benefit by receivin...      3  \n",
       "1  Pope Francis washed and kissed the feet of Mus...      4  \n",
       "2  Many refugees do n't want to be resettled anyw...      2  \n",
       "3  Budding chefs , like \" Fred \" , \" Winston \" an...      4  \n",
       "4  In a 90-degree view of his constituency , one ...      3  "
      ]
     },
     "execution_count": 20,
     "metadata": {},
     "output_type": "execute_result"
    }
   ],
   "source": [
    "test_data.head()"
   ]
  },
  {
   "cell_type": "code",
   "execution_count": 21,
   "metadata": {},
   "outputs": [
    {
     "data": {
      "text/plain": [
       "Text(0, 0.5, 'count')"
      ]
     },
     "execution_count": 21,
     "metadata": {},
     "output_type": "execute_result"
    },
    {
     "data": {
      "image/png": "[encoded data removed]",
      "text/plain": [
       "<Figure size 432x288 with 1 Axes>"
      ]
     },
     "metadata": {
      "needs_background": "light"
     },
     "output_type": "display_data"
    }
   ],
   "source": [
    "data = pd.read_csv('dontpatronizeme_pcl.tsv', sep='\\t', header=None, names=['par_id', 'art_id', 'keyword', 'country_code', 'text', 'label'])\n",
    "\n",
    "data.label.value_counts()\n",
    "# plot the histogram for the discrete labels\n",
    "plt.hist(data.label, bins=5, range=(0, 5), align='left', rwidth=0.5)\n",
    "# set the x range to -0.5 to 4.5\n",
    "plt.xlim(-0.5, 4.5)\n",
    "plt.xlabel('label')\n",
    "plt.ylabel('count')"
   ]
  },
  {
   "cell_type": "code",
   "execution_count": 22,
   "metadata": {},
   "outputs": [
    {
     "data": {
      "text/html": [
       "<div>\n",
       "<style scoped>\n",
       "    .dataframe tbody tr th:only-of-type {\n",
       "        vertical-align: middle;\n",
       "    }\n",
       "\n",
       "    .dataframe tbody tr th {\n",
       "        vertical-align: top;\n",
       "    }\n",
       "\n",
       "    .dataframe thead th {\n",
       "        text-align: right;\n",
       "    }\n",
       "</style>\n",
       "<table border=\"1\" class=\"dataframe\">\n",
       "  <thead>\n",
       "    <tr style=\"text-align: right;\">\n",
       "      <th></th>\n",
       "      <th>par_id</th>\n",
       "      <th>art_id</th>\n",
       "      <th>keyword</th>\n",
       "      <th>country_code</th>\n",
       "      <th>text</th>\n",
       "      <th>label</th>\n",
       "    </tr>\n",
       "  </thead>\n",
       "  <tbody>\n",
       "    <tr>\n",
       "      <th>0</th>\n",
       "      <td>1</td>\n",
       "      <td>@@24942188</td>\n",
       "      <td>hopeless</td>\n",
       "      <td>ph</td>\n",
       "      <td>We 're living in times of absolute insanity , ...</td>\n",
       "      <td>0</td>\n",
       "    </tr>\n",
       "    <tr>\n",
       "      <th>1</th>\n",
       "      <td>2</td>\n",
       "      <td>@@21968160</td>\n",
       "      <td>migrant</td>\n",
       "      <td>gh</td>\n",
       "      <td>In Libya today , there are countless number of...</td>\n",
       "      <td>0</td>\n",
       "    </tr>\n",
       "    <tr>\n",
       "      <th>2</th>\n",
       "      <td>3</td>\n",
       "      <td>@@16584954</td>\n",
       "      <td>immigrant</td>\n",
       "      <td>ie</td>\n",
       "      <td>White House press secretary Sean Spicer said t...</td>\n",
       "      <td>0</td>\n",
       "    </tr>\n",
       "    <tr>\n",
       "      <th>3</th>\n",
       "      <td>4</td>\n",
       "      <td>@@7811231</td>\n",
       "      <td>disabled</td>\n",
       "      <td>nz</td>\n",
       "      <td>Council customers only signs would be displaye...</td>\n",
       "      <td>0</td>\n",
       "    </tr>\n",
       "    <tr>\n",
       "      <th>4</th>\n",
       "      <td>5</td>\n",
       "      <td>@@1494111</td>\n",
       "      <td>refugee</td>\n",
       "      <td>ca</td>\n",
       "      <td>\" Just like we received migrants fleeing El Sa...</td>\n",
       "      <td>0</td>\n",
       "    </tr>\n",
       "  </tbody>\n",
       "</table>\n",
       "</div>"
      ],
      "text/plain": [
       "   par_id      art_id    keyword country_code  \\\n",
       "0       1  @@24942188   hopeless           ph   \n",
       "1       2  @@21968160    migrant           gh   \n",
       "2       3  @@16584954  immigrant           ie   \n",
       "3       4   @@7811231   disabled           nz   \n",
       "4       5   @@1494111    refugee           ca   \n",
       "\n",
       "                                                text  label  \n",
       "0  We 're living in times of absolute insanity , ...      0  \n",
       "1  In Libya today , there are countless number of...      0  \n",
       "2  White House press secretary Sean Spicer said t...      0  \n",
       "3  Council customers only signs would be displaye...      0  \n",
       "4  \" Just like we received migrants fleeing El Sa...      0  "
      ]
     },
     "execution_count": 22,
     "metadata": {},
     "output_type": "execute_result"
    }
   ],
   "source": [
    "data.head()"
   ]
  },
  {
   "cell_type": "code",
   "execution_count": 23,
   "metadata": {},
   "outputs": [
    {
     "name": "stdout",
     "output_type": "stream",
     "text": [
      "<class 'pandas.core.frame.DataFrame'>\n",
      "RangeIndex: 10469 entries, 0 to 10468\n",
      "Data columns (total 6 columns):\n",
      " #   Column        Non-Null Count  Dtype \n",
      "---  ------        --------------  ----- \n",
      " 0   par_id        10469 non-null  int64 \n",
      " 1   art_id        10469 non-null  object\n",
      " 2   keyword       10469 non-null  object\n",
      " 3   country_code  10469 non-null  object\n",
      " 4   text          10468 non-null  object\n",
      " 5   label         10469 non-null  int64 \n",
      "dtypes: int64(2), object(4)\n",
      "memory usage: 490.9+ KB\n"
     ]
    }
   ],
   "source": [
    "data.info()"
   ]
  },
  {
   "cell_type": "code",
   "execution_count": 24,
   "metadata": {},
   "outputs": [
    {
     "name": "stdout",
     "output_type": "stream",
     "text": [
      "label 0 accounts 0.8146909924539115\n"
     ]
    }
   ],
   "source": [
    "print(\"label 0 accounts {}\".format(data[data['label'] == 0]['label'].count() / data.shape[0]))"
   ]
  },
  {
   "cell_type": "code",
   "execution_count": 25,
   "metadata": {},
   "outputs": [],
   "source": [
    "\n",
    "# map labels to 0 and 1(Non-PCL and PCL)\n",
    "data['label'] = data['label'].apply(lambda x: 0 if x == 0 or x == 1 else 1)"
   ]
  },
  {
   "cell_type": "code",
   "execution_count": 26,
   "metadata": {},
   "outputs": [],
   "source": [
    "data = data.drop('art_id', axis=1)\n",
    "data = data.drop('keyword', axis=1)\n",
    "data = data.drop('country_code', axis=1)\n",
    "\n",
    "train_data = data[data['par_id'].isin(train_ids)]\n",
    "test_data = data[data['par_id'].isin(test_ids)].set_index('par_id').loc[test_ids].reset_index()\n",
    "\n",
    "train_data = train_data.drop('par_id', axis=1)\n",
    "test_data = test_data.drop('par_id', axis=1)\n",
    "\n",
    "# fill the missing values with empty string\n",
    "\n",
    "train_data = train_data.fillna('\" \"')\n",
    "test_data = test_data.fillna('\" \"')\n",
    "\n",
    "# split the validation set from the training set\n",
    "train_data, val_data = train_test_split(train_data, test_size=0.1, random_state=42)"
   ]
  },
  {
   "cell_type": "code",
   "execution_count": 27,
   "metadata": {},
   "outputs": [],
   "source": [
    "# save the data\n",
    "train_data.to_csv('./datasets/train_data.csv', index=False)\n",
    "val_data.to_csv('./datasets/val_data.csv', index=False)\n",
    "test_data.to_csv('./datasets/test_data.csv', index=False)"
   ]
  },
  {
   "attachments": {},
   "cell_type": "markdown",
   "metadata": {},
   "source": [
    "---"
   ]
  },
  {
   "cell_type": "code",
   "execution_count": 28,
   "metadata": {},
   "outputs": [],
   "source": [
    "final_pred = pd.read_csv('task4_test.tsv', sep='\\t', header=None, names=['par_id', 'art_id', 'keyword', 'country_code', 'text'])"
   ]
  },
  {
   "cell_type": "code",
   "execution_count": 29,
   "metadata": {},
   "outputs": [],
   "source": [
    "# only keep the text column\n",
    "final_pred = final_pred.drop(['par_id', 'art_id', 'keyword', 'country_code'], axis=1)\n",
    "final_pred = final_pred.fillna('\" \"')"
   ]
  },
  {
   "cell_type": "code",
   "execution_count": 30,
   "metadata": {},
   "outputs": [],
   "source": [
    "final_pred.to_csv('./datasets/final_pred.csv', index=False)"
   ]
  }
 ],
 "metadata": {
  "kernelspec": {
   "display_name": "pytorch",
   "language": "python",
   "name": "python3"
  },
  "language_info": {
   "codemirror_mode": {
    "name": "ipython",
    "version": 3
   },
   "file_extension": ".py",
   "mimetype": "text/x-python",
   "name": "python",
   "nbconvert_exporter": "python",
   "pygments_lexer": "ipython3",
   "version": "3.9.12"
  },
  "orig_nbformat": 4,
  "vscode": {
   "interpreter": {
    "hash": "9bf3454d8134cf31c53930b86a97c38f4c38d2a7205730a8063b2bb452273ba7"
   }
  }
 },
 "nbformat": 4,
 "nbformat_minor": 2
}
