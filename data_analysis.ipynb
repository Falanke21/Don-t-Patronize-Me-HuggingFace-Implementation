{
 "cells": [
  {
   "cell_type": "code",
   "execution_count": 66,
   "metadata": {},
   "outputs": [],
   "source": [
    "import pandas as pd\n",
    "import numpy as np\n",
    "import torch\n",
    "from sklearn.model_selection import train_test_split\n",
    "import matplotlib.pyplot as plt"
   ]
  },
  {
   "cell_type": "code",
   "execution_count": 67,
   "metadata": {},
   "outputs": [],
   "source": [
    "train_ids = pd.read_csv('train_semeval_parids-labels.csv')\n",
    "test_ids = pd.read_csv('dev_semeval_parids-labels.csv')\n",
    "\n",
    "train_ids = train_ids['par_id']\n",
    "test_ids = test_ids['par_id']"
   ]
  },
  {
   "cell_type": "code",
   "execution_count": 68,
   "metadata": {},
   "outputs": [
    {
     "data": {
      "text/plain": [
       "Text(0, 0.5, 'count')"
      ]
     },
     "execution_count": 68,
     "metadata": {},
     "output_type": "execute_result"
    },
    {
     "data": {
      "image/png": "[encoded data removed]",
      "text/plain": [
       "<Figure size 432x288 with 1 Axes>"
      ]
     },
     "metadata": {},
     "output_type": "display_data"
    }
   ],
   "source": [
    "data = pd.read_csv('dontpatronizeme_pcl.tsv', sep='\\t', header=None, names=['par_id', 'art_id', 'keyword', 'country_code', 'text', 'label'])\n",
    "\n",
    "data.label.value_counts()\n",
    "# plot the histogram for the discrete labels\n",
    "plt.hist(data.label, bins=5, range=(0, 5), align='left', rwidth=0.5)\n",
    "# set the x range to -0.5 to 4.5\n",
    "plt.xlim(-0.5, 4.5)\n",
    "plt.xlabel('label')\n",
    "plt.ylabel('count')"
   ]
  },
  {
   "cell_type": "code",
   "execution_count": 69,
   "metadata": {},
   "outputs": [
    {
     "data": {
      "text/html": [
       "<div>\n",
       "<style scoped>\n",
       "    .dataframe tbody tr th:only-of-type {\n",
       "        vertical-align: middle;\n",
       "    }\n",
       "\n",
       "    .dataframe tbody tr th {\n",
       "        vertical-align: top;\n",
       "    }\n",
       "\n",
       "    .dataframe thead th {\n",
       "        text-align: right;\n",
       "    }\n",
       "</style>\n",
       "<table border=\"1\" class=\"dataframe\">\n",
       "  <thead>\n",
       "    <tr style=\"text-align: right;\">\n",
       "      <th></th>\n",
       "      <th>par_id</th>\n",
       "      <th>art_id</th>\n",
       "      <th>keyword</th>\n",
       "      <th>country_code</th>\n",
       "      <th>text</th>\n",
       "      <th>label</th>\n",
       "    </tr>\n",
       "  </thead>\n",
       "  <tbody>\n",
       "    <tr>\n",
       "      <th>0</th>\n",
       "      <td>1</td>\n",
       "      <td>@@24942188</td>\n",
       "      <td>hopeless</td>\n",
       "      <td>ph</td>\n",
       "      <td>We 're living in times of absolute insanity , ...</td>\n",
       "      <td>0</td>\n",
       "    </tr>\n",
       "    <tr>\n",
       "      <th>1</th>\n",
       "      <td>2</td>\n",
       "      <td>@@21968160</td>\n",
       "      <td>migrant</td>\n",
       "      <td>gh</td>\n",
       "      <td>In Libya today , there are countless number of...</td>\n",
       "      <td>0</td>\n",
       "    </tr>\n",
       "    <tr>\n",
       "      <th>2</th>\n",
       "      <td>3</td>\n",
       "      <td>@@16584954</td>\n",
       "      <td>immigrant</td>\n",
       "      <td>ie</td>\n",
       "      <td>White House press secretary Sean Spicer said t...</td>\n",
       "      <td>0</td>\n",
       "    </tr>\n",
       "    <tr>\n",
       "      <th>3</th>\n",
       "      <td>4</td>\n",
       "      <td>@@7811231</td>\n",
       "      <td>disabled</td>\n",
       "      <td>nz</td>\n",
       "      <td>Council customers only signs would be displaye...</td>\n",
       "      <td>0</td>\n",
       "    </tr>\n",
       "    <tr>\n",
       "      <th>4</th>\n",
       "      <td>5</td>\n",
       "      <td>@@1494111</td>\n",
       "      <td>refugee</td>\n",
       "      <td>ca</td>\n",
       "      <td>\" Just like we received migrants fleeing El Sa...</td>\n",
       "      <td>0</td>\n",
       "    </tr>\n",
       "  </tbody>\n",
       "</table>\n",
       "</div>"
      ],
      "text/plain": [
       "   par_id      art_id    keyword country_code  \\\n",
       "0       1  @@24942188   hopeless           ph   \n",
       "1       2  @@21968160    migrant           gh   \n",
       "2       3  @@16584954  immigrant           ie   \n",
       "3       4   @@7811231   disabled           nz   \n",
       "4       5   @@1494111    refugee           ca   \n",
       "\n",
       "                                                text  label  \n",
       "0  We 're living in times of absolute insanity , ...      0  \n",
       "1  In Libya today , there are countless number of...      0  \n",
       "2  White House press secretary Sean Spicer said t...      0  \n",
       "3  Council customers only signs would be displaye...      0  \n",
       "4  \" Just like we received migrants fleeing El Sa...      0  "
      ]
     },
     "execution_count": 69,
     "metadata": {},
     "output_type": "execute_result"
    }
   ],
   "source": [
    "data.head()"
   ]
  },
  {
   "cell_type": "code",
   "execution_count": 70,
   "metadata": {},
   "outputs": [
    {
     "name": "stdout",
     "output_type": "stream",
     "text": [
      "<class 'pandas.core.frame.DataFrame'>\n",
      "RangeIndex: 10469 entries, 0 to 10468\n",
      "Data columns (total 6 columns):\n",
      " #   Column        Non-Null Count  Dtype \n",
      "---  ------        --------------  ----- \n",
      " 0   par_id        10469 non-null  int64 \n",
      " 1   art_id        10469 non-null  object\n",
      " 2   keyword       10469 non-null  object\n",
      " 3   country_code  10469 non-null  object\n",
      " 4   text          10468 non-null  object\n",
      " 5   label         10469 non-null  int64 \n",
      "dtypes: int64(2), object(4)\n",
      "memory usage: 490.9+ KB\n"
     ]
    }
   ],
   "source": [
    "data.info()"
   ]
  },
  {
   "cell_type": "code",
   "execution_count": 71,
   "metadata": {},
   "outputs": [
    {
     "name": "stdout",
     "output_type": "stream",
     "text": [
      "label 0 accounts 0.8146909924539115\n"
     ]
    }
   ],
   "source": [
    "print(\"label 0 accounts {}\".format(data[data['label'] == 0]['label'].count() / data.shape[0]))"
   ]
  },
  {
   "cell_type": "code",
   "execution_count": 72,
   "metadata": {},
   "outputs": [],
   "source": [
    "# map labels to 0 and 1(Non-PCL and PCL)\n",
    "data['label'] = data['label'].apply(lambda x: 0 if x == 0 or x == 1 else 1)"
   ]
  },
  {
   "cell_type": "code",
   "execution_count": 114,
   "metadata": {},
   "outputs": [],
   "source": [
    "def plot_bar(data, attr):\n",
    "    num_unique = data[attr].nunique()\n",
    "    num_unique_range = np.arange(num_unique)\n",
    "    zeros = data[data['label']==0]\n",
    "    ones = data[data['label']==1]\n",
    "    zero_keywords = zeros[attr].value_counts()\n",
    "    one_keywords = ones[attr].value_counts()\n",
    "    # make sure the order of the keywords are the same\n",
    "    zero_keywords = zero_keywords.reindex(one_keywords.index)\n",
    "    bar1 = plt.bar(x=num_unique_range, height=zero_keywords, width=0.5, color='b', alpha=1.0, align='center', label='Non-PCL')\n",
    "    bar2 = plt.bar(x=[i  for i in num_unique_range], height=one_keywords, width=0.5, color='r', align='center', label='PCL', bottom=zero_keywords)\n",
    "    plt.ylabel('count')\n",
    "    plt.xticks([x for x in num_unique_range], zero_keywords.index, rotation=90)\n",
    "    plt.legend()\n",
    "    plt.show()"
   ]
  },
  {
   "cell_type": "code",
   "execution_count": 96,
   "metadata": {},
   "outputs": [
    {
     "data": {
      "text/plain": [
       "migrant          1089\n",
       "in-need          1082\n",
       "vulnerable       1080\n",
       "homeless         1077\n",
       "women            1070\n",
       "refugee          1068\n",
       "immigrant        1061\n",
       "disabled         1028\n",
       "hopeless         1005\n",
       "poor-families     909\n",
       "Name: keyword, dtype: int64"
      ]
     },
     "execution_count": 96,
     "metadata": {},
     "output_type": "execute_result"
    }
   ],
   "source": [
    "data.keyword.value_counts()"
   ]
  },
  {
   "cell_type": "code",
   "execution_count": 116,
   "metadata": {},
   "outputs": [
    {
     "data": {
      "image/png": "[encoded data removed]",
      "text/plain": [
       "<Figure size 432x288 with 1 Axes>"
      ]
     },
     "metadata": {},
     "output_type": "display_data"
    }
   ],
   "source": [
    "plot_bar(data, 'keyword')"
   ]
  },
  {
   "cell_type": "code",
   "execution_count": 117,
   "metadata": {},
   "outputs": [
    {
     "data": {
      "text/plain": [
       "za    549\n",
       "my    546\n",
       "ph    545\n",
       "pk    545\n",
       "us    543\n",
       "au    541\n",
       "gb    540\n",
       "ke    539\n",
       "ie    537\n",
       "ng    537\n",
       "sg    535\n",
       "in    530\n",
       "ca    530\n",
       "gh    523\n",
       "nz    518\n",
       "bd    512\n",
       "lk    504\n",
       "jm    490\n",
       "hk    490\n",
       "tz    415\n",
       "Name: country_code, dtype: int64"
      ]
     },
     "execution_count": 117,
     "metadata": {},
     "output_type": "execute_result"
    }
   ],
   "source": [
    "data['country_code'].value_counts()"
   ]
  },
  {
   "cell_type": "code",
   "execution_count": 118,
   "metadata": {},
   "outputs": [
    {
     "data": {
      "image/png": "[encoded data removed]",
      "text/plain": [
       "<Figure size 432x288 with 1 Axes>"
      ]
     },
     "metadata": {},
     "output_type": "display_data"
    }
   ],
   "source": [
    "plot_bar(data, 'country_code')"
   ]
  },
  {
   "cell_type": "code",
   "execution_count": 124,
   "metadata": {},
   "outputs": [
    {
     "data": {
      "text/plain": [
       "count    10469.000000\n",
       "mean        48.422581\n",
       "std         29.091174\n",
       "min          1.000000\n",
       "25%         30.000000\n",
       "50%         42.000000\n",
       "75%         60.000000\n",
       "max        909.000000\n",
       "Name: text_len, dtype: float64"
      ]
     },
     "execution_count": 124,
     "metadata": {},
     "output_type": "execute_result"
    }
   ],
   "source": [
    "# get the length of each sentence\n",
    "data['text_len'] = data['text'].apply(lambda x: len(str(x).split()))\n",
    "data['text_len'].describe()"
   ]
  },
  {
   "cell_type": "code",
   "execution_count": 130,
   "metadata": {},
   "outputs": [
    {
     "data": {
      "text/plain": [
       "Text(0, 0.5, 'count')"
      ]
     },
     "execution_count": 130,
     "metadata": {},
     "output_type": "execute_result"
    },
    {
     "data": {
      "image/png": "[encoded data removed]",
      "text/plain": [
       "<Figure size 432x288 with 1 Axes>"
      ]
     },
     "metadata": {},
     "output_type": "display_data"
    }
   ],
   "source": [
    "# plot the distribution of the length of the sentences\n",
    "zeros = data[data['label']==0]['text_len']\n",
    "ones = data[data['label']==1]['text_len']\n",
    "plt.hist(zeros, bins=100, range=(0, 100), color='b', align='left', rwidth=0.5, label='Non-PCL')\n",
    "plt.hist(ones, bins=100, range=(0, 100), color='r', align='left', rwidth=0.5, label='PCL')\n",
    "plt.legend()\n",
    "plt.xlabel('length')\n",
    "plt.ylabel('count')"
   ]
  },
  {
   "cell_type": "code",
   "execution_count": 40,
   "metadata": {},
   "outputs": [
    {
     "data": {
      "text/plain": [
       "0    9476\n",
       "1     993\n",
       "Name: label, dtype: int64"
      ]
     },
     "execution_count": 40,
     "metadata": {},
     "output_type": "execute_result"
    }
   ],
   "source": [
    "data.label.value_counts()"
   ]
  },
  {
   "cell_type": "code",
   "execution_count": 132,
   "metadata": {},
   "outputs": [
    {
     "data": {
      "text/plain": [
       "Text(0, 0.5, 'count')"
      ]
     },
     "execution_count": 132,
     "metadata": {},
     "output_type": "execute_result"
    },
    {
     "data": {
      "image/png": "[encoded data removed]",
      "text/plain": [
       "<Figure size 360x360 with 1 Axes>"
      ]
     },
     "metadata": {},
     "output_type": "display_data"
    }
   ],
   "source": [
    "plt.figure(figsize=(5, 5))\n",
    "plt.hist(data.label, bins=2, range=(0, 2), align='left', rwidth=0.5)\n",
    "plt.xlabel('label')\n",
    "plt.ylabel('count')"
   ]
  },
  {
   "cell_type": "code",
   "execution_count": null,
   "metadata": {},
   "outputs": [],
   "source": [
    "data = pd.read_csv('dontpatronizeme_pcl.tsv', sep='\\t', header=None, names=['par_id', 'art_id', 'keyword', 'country_code', 'text', 'label'])"
   ]
  },
  {
   "cell_type": "code",
   "execution_count": 26,
   "metadata": {},
   "outputs": [],
   "source": [
    "data = data.drop('art_id', axis=1)\n",
    "data = data.drop('keyword', axis=1)\n",
    "data = data.drop('country_code', axis=1)\n",
    "\n",
    "train_data = data[data['par_id'].isin(train_ids)]\n",
    "test_data = data[data['par_id'].isin(test_ids)].set_index('par_id').loc[test_ids].reset_index()\n",
    "\n",
    "train_data = train_data.drop('par_id', axis=1)\n",
    "test_data = test_data.drop('par_id', axis=1)\n",
    "\n",
    "# fill the missing values with empty string\n",
    "\n",
    "train_data = train_data.fillna('\" \"')\n",
    "test_data = test_data.fillna('\" \"')\n",
    "\n",
    "# split the validation set from the training set\n",
    "train_data, val_data = train_test_split(train_data, test_size=0.1, random_state=42)"
   ]
  },
  {
   "cell_type": "code",
   "execution_count": 27,
   "metadata": {},
   "outputs": [],
   "source": [
    "# save the data\n",
    "train_data.to_csv('./datasets/train_data.csv', index=False)\n",
    "val_data.to_csv('./datasets/val_data.csv', index=False)\n",
    "test_data.to_csv('./datasets/test_data.csv', index=False)"
   ]
  },
  {
   "attachments": {},
   "cell_type": "markdown",
   "metadata": {},
   "source": [
    "---"
   ]
  },
  {
   "cell_type": "code",
   "execution_count": 28,
   "metadata": {},
   "outputs": [],
   "source": [
    "final_pred = pd.read_csv('task4_test.tsv', sep='\\t', header=None, names=['par_id', 'art_id', 'keyword', 'country_code', 'text'])"
   ]
  },
  {
   "cell_type": "code",
   "execution_count": 29,
   "metadata": {},
   "outputs": [],
   "source": [
    "# only keep the text column\n",
    "final_pred = final_pred.drop(['par_id', 'art_id', 'keyword', 'country_code'], axis=1)\n",
    "final_pred = final_pred.fillna('\" \"')"
   ]
  },
  {
   "cell_type": "code",
   "execution_count": 30,
   "metadata": {},
   "outputs": [],
   "source": [
    "final_pred.to_csv('./datasets/final_pred.csv', index=False)"
   ]
  }
 ],
 "metadata": {
  "kernelspec": {
   "display_name": "pytorch",
   "language": "python",
   "name": "python3"
  },
  "language_info": {
   "codemirror_mode": {
    "name": "ipython",
    "version": 3
   },
   "file_extension": ".py",
   "mimetype": "text/x-python",
   "name": "python",
   "nbconvert_exporter": "python",
   "pygments_lexer": "ipython3",
   "version": "3.9.12"
  },
  "orig_nbformat": 4,
  "vscode": {
   "interpreter": {
    "hash": "9bf3454d8134cf31c53930b86a97c38f4c38d2a7205730a8063b2bb452273ba7"
   }
  }
 },
 "nbformat": 4,
 "nbformat_minor": 2
}
