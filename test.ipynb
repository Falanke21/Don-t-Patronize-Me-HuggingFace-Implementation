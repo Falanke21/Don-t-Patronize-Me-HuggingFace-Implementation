{
 "cells": [
  {
   "cell_type": "code",
   "execution_count": 111,
   "metadata": {},
   "outputs": [],
   "source": [
    "import torch\n",
    "import torch.nn as nn\n",
    "import torch.nn.functional as F\n",
    "import pandas as pd\n",
    "import numpy as np\n",
    "import matplotlib.pyplot as plt\n",
    "import seaborn as sns\n"
   ]
  },
  {
   "cell_type": "code",
   "execution_count": 112,
   "metadata": {},
   "outputs": [
    {
     "data": {
      "text/html": [
       "<div>\n",
       "<style scoped>\n",
       "    .dataframe tbody tr th:only-of-type {\n",
       "        vertical-align: middle;\n",
       "    }\n",
       "\n",
       "    .dataframe tbody tr th {\n",
       "        vertical-align: top;\n",
       "    }\n",
       "\n",
       "    .dataframe thead th {\n",
       "        text-align: right;\n",
       "    }\n",
       "</style>\n",
       "<table border=\"1\" class=\"dataframe\">\n",
       "  <thead>\n",
       "    <tr style=\"text-align: right;\">\n",
       "      <th></th>\n",
       "      <th>text</th>\n",
       "      <th>label</th>\n",
       "    </tr>\n",
       "  </thead>\n",
       "  <tbody>\n",
       "    <tr>\n",
       "      <th>0</th>\n",
       "      <td>The fact that every single major department of...</td>\n",
       "      <td>0</td>\n",
       "    </tr>\n",
       "    <tr>\n",
       "      <th>1</th>\n",
       "      <td>He added that himself and families and women i...</td>\n",
       "      <td>0</td>\n",
       "    </tr>\n",
       "    <tr>\n",
       "      <th>2</th>\n",
       "      <td>BTW , here 's a statement which our apex court...</td>\n",
       "      <td>0</td>\n",
       "    </tr>\n",
       "    <tr>\n",
       "      <th>3</th>\n",
       "      <td>Hospitals fill as Rohingya refugees shiver thr...</td>\n",
       "      <td>1</td>\n",
       "    </tr>\n",
       "    <tr>\n",
       "      <th>4</th>\n",
       "      <td>But in pregnant women it can cause microcephal...</td>\n",
       "      <td>0</td>\n",
       "    </tr>\n",
       "  </tbody>\n",
       "</table>\n",
       "</div>"
      ],
      "text/plain": [
       "                                                text  label\n",
       "0  The fact that every single major department of...      0\n",
       "1  He added that himself and families and women i...      0\n",
       "2  BTW , here 's a statement which our apex court...      0\n",
       "3  Hospitals fill as Rohingya refugees shiver thr...      1\n",
       "4  But in pregnant women it can cause microcephal...      0"
      ]
     },
     "execution_count": 112,
     "metadata": {},
     "output_type": "execute_result"
    }
   ],
   "source": [
    "data = pd.read_csv('./datasets/train_data.csv')\n",
    "data.head()"
   ]
  },
  {
   "attachments": {},
   "cell_type": "markdown",
   "metadata": {},
   "source": [
    "Bag of words model\n",
    "Naive Bayesian Classification"
   ]
  },
  {
   "cell_type": "code",
   "execution_count": 113,
   "metadata": {},
   "outputs": [],
   "source": [
    "# bag of words\n",
    "from sklearn.feature_extraction.text import CountVectorizer\n",
    "cv = CountVectorizer()\n",
    "# X = cv.fit_transform(data['text']).toarray()\n",
    "# y = data['label'].values\n",
    "\n",
    "# train test split\n",
    "from sklearn.model_selection import train_test_split\n"
   ]
  },
  {
   "cell_type": "code",
   "execution_count": null,
   "metadata": {},
   "outputs": [],
   "source": []
  },
  {
   "cell_type": "code",
   "execution_count": null,
   "metadata": {},
   "outputs": [],
   "source": [
    "\n",
    "\n"
   ]
  },
  {
   "cell_type": "code",
   "execution_count": 114,
   "metadata": {},
   "outputs": [
    {
     "name": "stdout",
     "output_type": "stream",
     "text": [
      "text     0\n",
      "label    0\n",
      "dtype: int64\n",
      "text     0\n",
      "label    0\n",
      "dtype: int64\n"
     ]
    }
   ],
   "source": [
    "# train_data = pd.read_csv('./datasets/train_data.csv')\n",
    "test_data = pd.read_csv('./datasets/test_data.csv')\n",
    "train_data = pd.read_csv('./datasets/train_data_balanced.csv')\n",
    "# find the null values and remove them\n",
    "print(train_data.isnull().sum())\n",
    "train_data.dropna(inplace=True)\n",
    "test_data.dropna(inplace=True)\n",
    "# find the null values and remove them\n",
    "print(test_data.isnull().sum())\n",
    "X_train, y_train = train_data['text'], train_data['label']\n",
    "X_test, y_test = test_data['text'], test_data['label']\n",
    "test_data.dropna(inplace=True)\n",
    "val_data = pd.read_csv('./datasets/val_data.csv')\n",
    "val_data.dropna(inplace=True)\n",
    "X_val, y_val = val_data['text'], val_data['label']"
   ]
  },
  {
   "cell_type": "code",
   "execution_count": 115,
   "metadata": {},
   "outputs": [],
   "source": [
    "\n",
    "\n",
    "def train(X_train, y_train, X_test, y_test, cv, model):\n",
    "    bow = cv.fit_transform(X_train)\n",
    "    model.fit(bow, y_train)\n",
    "    # test\n",
    "    test_bow = cv.transform(X_test)\n",
    "    print(\"accuracy: \", model.score(test_bow, y_test))\n",
    "    # F1 score\n",
    "    from sklearn.metrics import f1_score\n",
    "    y_pred = model.predict(test_bow)\n",
    "    print(\"F1 score: \", f1_score(y_test, y_pred))\n",
    "\n"
   ]
  },
  {
   "attachments": {},
   "cell_type": "markdown",
   "metadata": {},
   "source": [
    "### Baseline1 Naive Bayes"
   ]
  },
  {
   "cell_type": "code",
   "execution_count": 116,
   "metadata": {},
   "outputs": [],
   "source": [
    "# naive bayes\n",
    "\n",
    "from sklearn.naive_bayes import MultinomialNB\n",
    "def NB(X_train, y_train, X_test, y_test, X_val, y_val, cv):\n",
    "    model = MultinomialNB()\n",
    "    train(X_train, y_train, X_val, y_val, cv, model)\n",
    "    train(X_train, y_train, X_val, y_val, cv, model)"
   ]
  },
  {
   "cell_type": "code",
   "execution_count": 117,
   "metadata": {},
   "outputs": [
    {
     "name": "stdout",
     "output_type": "stream",
     "text": [
      "accuracy:  0.8758949880668258\n",
      "F1 score:  0.4408602150537634\n",
      "accuracy:  0.8758949880668258\n",
      "F1 score:  0.4408602150537634\n"
     ]
    }
   ],
   "source": [
    "NB(X_train, y_train, X_test, y_test, X_val, y_val, cv)"
   ]
  },
  {
   "attachments": {},
   "cell_type": "markdown",
   "metadata": {},
   "source": [
    "### Baseline 2: Logistic Regression"
   ]
  },
  {
   "cell_type": "code",
   "execution_count": 118,
   "metadata": {},
   "outputs": [],
   "source": [
    "# logistic regression\n",
    "from sklearn.linear_model import LogisticRegression\n",
    "def LR(X_train, y_train, X_test, y_test, X_val, y_val, cv):\n",
    "    model = LogisticRegression()\n",
    "    train(X_train, y_train, X_test, y_test, cv, model)\n",
    "    train(X_train, y_train, X_val, y_val, cv, model)"
   ]
  },
  {
   "cell_type": "code",
   "execution_count": 119,
   "metadata": {},
   "outputs": [
    {
     "name": "stderr",
     "output_type": "stream",
     "text": [
      "d:\\yanbo\\lib\\site-packages\\sklearn\\linear_model\\_logistic.py:458: ConvergenceWarning: lbfgs failed to converge (status=1):\n",
      "STOP: TOTAL NO. of ITERATIONS REACHED LIMIT.\n",
      "\n",
      "Increase the number of iterations (max_iter) or scale the data as shown in:\n",
      "    https://scikit-learn.org/stable/modules/preprocessing.html\n",
      "Please also refer to the documentation for alternative solver options:\n",
      "    https://scikit-learn.org/stable/modules/linear_model.html#logistic-regression\n",
      "  n_iter_i = _check_optimize_result(\n"
     ]
    },
    {
     "name": "stdout",
     "output_type": "stream",
     "text": [
      "accuracy:  0.8662207357859532\n",
      "F1 score:  0.33014354066985646\n",
      "accuracy:  0.8842482100238663\n",
      "F1 score:  0.45197740112994345\n"
     ]
    },
    {
     "name": "stderr",
     "output_type": "stream",
     "text": [
      "d:\\yanbo\\lib\\site-packages\\sklearn\\linear_model\\_logistic.py:458: ConvergenceWarning: lbfgs failed to converge (status=1):\n",
      "STOP: TOTAL NO. of ITERATIONS REACHED LIMIT.\n",
      "\n",
      "Increase the number of iterations (max_iter) or scale the data as shown in:\n",
      "    https://scikit-learn.org/stable/modules/preprocessing.html\n",
      "Please also refer to the documentation for alternative solver options:\n",
      "    https://scikit-learn.org/stable/modules/linear_model.html#logistic-regression\n",
      "  n_iter_i = _check_optimize_result(\n"
     ]
    }
   ],
   "source": [
    "LR(X_train, y_train, X_test, y_test, X_val, y_val, cv)"
   ]
  },
  {
   "cell_type": "code",
   "execution_count": 120,
   "metadata": {},
   "outputs": [
    {
     "name": "stdout",
     "output_type": "stream",
     "text": [
      "text     0\n",
      "label    0\n",
      "dtype: int64\n",
      "text     0\n",
      "label    0\n",
      "dtype: int64\n"
     ]
    }
   ],
   "source": [
    "train_data = pd.read_csv('./datasets/train_data.csv')\n",
    "test_data = pd.read_csv('./datasets/test_data.csv')\n",
    "# train_data = pd.read_csv('./datasets/train_data_balanced.csv')\n",
    "# find the null values and remove them\n",
    "print(train_data.isnull().sum())\n",
    "train_data.dropna(inplace=True)\n",
    "test_data.dropna(inplace=True)\n",
    "# find the null values and remove them\n",
    "print(test_data.isnull().sum())\n",
    "X_train, y_train = train_data['text'], train_data['label']\n",
    "X_test, y_test = test_data['text'], test_data['label']\n",
    "test_data.dropna(inplace=True)\n",
    "val_data = pd.read_csv('./datasets/val_data.csv')\n",
    "val_data.dropna(inplace=True)\n",
    "X_val, y_val = val_data['text'], val_data['label']\n"
   ]
  },
  {
   "attachments": {},
   "cell_type": "markdown",
   "metadata": {},
   "source": [
    "### Original DataSet without data augumentation"
   ]
  },
  {
   "cell_type": "code",
   "execution_count": 121,
   "metadata": {},
   "outputs": [
    {
     "name": "stdout",
     "output_type": "stream",
     "text": [
      "accuracy:  0.89618138424821\n",
      "F1 score:  0.02247191011235955\n",
      "accuracy:  0.89618138424821\n",
      "F1 score:  0.02247191011235955\n"
     ]
    },
    {
     "name": "stderr",
     "output_type": "stream",
     "text": [
      "d:\\yanbo\\lib\\site-packages\\sklearn\\linear_model\\_logistic.py:458: ConvergenceWarning: lbfgs failed to converge (status=1):\n",
      "STOP: TOTAL NO. of ITERATIONS REACHED LIMIT.\n",
      "\n",
      "Increase the number of iterations (max_iter) or scale the data as shown in:\n",
      "    https://scikit-learn.org/stable/modules/preprocessing.html\n",
      "Please also refer to the documentation for alternative solver options:\n",
      "    https://scikit-learn.org/stable/modules/linear_model.html#logistic-regression\n",
      "  n_iter_i = _check_optimize_result(\n"
     ]
    },
    {
     "name": "stdout",
     "output_type": "stream",
     "text": [
      "accuracy:  0.9001433349259437\n",
      "F1 score:  0.2614840989399293\n",
      "accuracy:  0.9033412887828163\n",
      "F1 score:  0.3305785123966942\n"
     ]
    },
    {
     "name": "stderr",
     "output_type": "stream",
     "text": [
      "d:\\yanbo\\lib\\site-packages\\sklearn\\linear_model\\_logistic.py:458: ConvergenceWarning: lbfgs failed to converge (status=1):\n",
      "STOP: TOTAL NO. of ITERATIONS REACHED LIMIT.\n",
      "\n",
      "Increase the number of iterations (max_iter) or scale the data as shown in:\n",
      "    https://scikit-learn.org/stable/modules/preprocessing.html\n",
      "Please also refer to the documentation for alternative solver options:\n",
      "    https://scikit-learn.org/stable/modules/linear_model.html#logistic-regression\n",
      "  n_iter_i = _check_optimize_result(\n"
     ]
    }
   ],
   "source": [
    "NB(X_train, y_train, X_test, y_test, X_val, y_val, cv)\n",
    "LR(X_train, y_train, X_test, y_test, X_val, y_val, cv)"
   ]
  },
  {
   "cell_type": "markdown",
   "metadata": {},
   "source": [
    "### Downsampling"
   ]
  },
  {
   "cell_type": "code",
   "execution_count": 122,
   "metadata": {},
   "outputs": [
    {
     "name": "stdout",
     "output_type": "stream",
     "text": [
      "accuracy:  0.860381861575179\n",
      "F1 score:  0.4845814977973568\n",
      "accuracy:  0.860381861575179\n",
      "F1 score:  0.4845814977973568\n"
     ]
    },
    {
     "name": "stderr",
     "output_type": "stream",
     "text": [
      "d:\\yanbo\\lib\\site-packages\\sklearn\\linear_model\\_logistic.py:458: ConvergenceWarning: lbfgs failed to converge (status=1):\n",
      "STOP: TOTAL NO. of ITERATIONS REACHED LIMIT.\n",
      "\n",
      "Increase the number of iterations (max_iter) or scale the data as shown in:\n",
      "    https://scikit-learn.org/stable/modules/preprocessing.html\n",
      "Please also refer to the documentation for alternative solver options:\n",
      "    https://scikit-learn.org/stable/modules/linear_model.html#logistic-regression\n",
      "  n_iter_i = _check_optimize_result(\n"
     ]
    },
    {
     "name": "stdout",
     "output_type": "stream",
     "text": [
      "accuracy:  0.8189202102245581\n",
      "F1 score:  0.3672787979966611\n",
      "accuracy:  0.8424821002386634\n",
      "F1 score:  0.42105263157894735\n"
     ]
    },
    {
     "name": "stderr",
     "output_type": "stream",
     "text": [
      "d:\\yanbo\\lib\\site-packages\\sklearn\\linear_model\\_logistic.py:458: ConvergenceWarning: lbfgs failed to converge (status=1):\n",
      "STOP: TOTAL NO. of ITERATIONS REACHED LIMIT.\n",
      "\n",
      "Increase the number of iterations (max_iter) or scale the data as shown in:\n",
      "    https://scikit-learn.org/stable/modules/preprocessing.html\n",
      "Please also refer to the documentation for alternative solver options:\n",
      "    https://scikit-learn.org/stable/modules/linear_model.html#logistic-regression\n",
      "  n_iter_i = _check_optimize_result(\n"
     ]
    }
   ],
   "source": [
    "# extract the data with 0 label, the same snumber of 1 label\n",
    "# and combine them together\n",
    "# 0 label\n",
    "data_0 = train_data[train_data['label'] == 0]\n",
    "# 1 label\n",
    "data_1 = train_data[train_data['label'] == 1]\n",
    "# combine them together\n",
    "n = int(len(data_1)*2)\n",
    "data_0 = data_0.sample(n , random_state=42)\n",
    "data = pd.concat([data_0, data_1], axis=0)\n",
    "data = data.sample(frac=1).reset_index(drop=True)\n",
    "# data.head()\n",
    "# print(data[data['label'] == 1].count())\n",
    "X_train, y_train = data['text'], data['label']\n",
    "NB(X_train, y_train, X_test, y_test, X_val, y_val, cv)\n",
    "LR(X_train, y_train, X_test, y_test, X_val, y_val, cv)\n"
   ]
  },
  {
   "cell_type": "markdown",
   "metadata": {},
   "source": [
    "### Upsampling"
   ]
  },
  {
   "cell_type": "code",
   "execution_count": 123,
   "metadata": {},
   "outputs": [
    {
     "name": "stdout",
     "output_type": "stream",
     "text": [
      "accuracy:  0.8532219570405728\n",
      "F1 score:  0.45333333333333337\n",
      "accuracy:  0.8532219570405728\n",
      "F1 score:  0.45333333333333337\n"
     ]
    },
    {
     "name": "stderr",
     "output_type": "stream",
     "text": [
      "d:\\yanbo\\lib\\site-packages\\sklearn\\linear_model\\_logistic.py:458: ConvergenceWarning: lbfgs failed to converge (status=1):\n",
      "STOP: TOTAL NO. of ITERATIONS REACHED LIMIT.\n",
      "\n",
      "Increase the number of iterations (max_iter) or scale the data as shown in:\n",
      "    https://scikit-learn.org/stable/modules/preprocessing.html\n",
      "Please also refer to the documentation for alternative solver options:\n",
      "    https://scikit-learn.org/stable/modules/linear_model.html#logistic-regression\n",
      "  n_iter_i = _check_optimize_result(\n"
     ]
    },
    {
     "name": "stdout",
     "output_type": "stream",
     "text": [
      "accuracy:  0.8752986144290492\n",
      "F1 score:  0.3523573200992556\n",
      "accuracy:  0.8937947494033412\n",
      "F1 score:  0.4539877300613497\n"
     ]
    },
    {
     "name": "stderr",
     "output_type": "stream",
     "text": [
      "d:\\yanbo\\lib\\site-packages\\sklearn\\linear_model\\_logistic.py:458: ConvergenceWarning: lbfgs failed to converge (status=1):\n",
      "STOP: TOTAL NO. of ITERATIONS REACHED LIMIT.\n",
      "\n",
      "Increase the number of iterations (max_iter) or scale the data as shown in:\n",
      "    https://scikit-learn.org/stable/modules/preprocessing.html\n",
      "Please also refer to the documentation for alternative solver options:\n",
      "    https://scikit-learn.org/stable/modules/linear_model.html#logistic-regression\n",
      "  n_iter_i = _check_optimize_result(\n"
     ]
    }
   ],
   "source": [
    "data_0 = train_data[train_data['label'] == 0]\n",
    "# 1 label\n",
    "data_1 = train_data[train_data['label'] == 1]\n",
    "\n",
    "data = pd.concat([data_0, data_1], axis=0)\n",
    "for i in range(9):\n",
    "    data = pd.concat([data, data_1], axis=0)\n",
    "X_train, y_train = data['text'], data['label']\n",
    "NB(X_train, y_train, X_test, y_test, X_val, y_val, cv)\n",
    "LR(X_train, y_train, X_test, y_test, X_val, y_val, cv)\n"
   ]
  },
  {
   "attachments": {},
   "cell_type": "markdown",
   "metadata": {},
   "source": [
    "It obviouse that the naive way cannot handle the classification on this task, for the bag of words. The logistic classification has better performance than the naive bayesian. Also, if we use the pre-trianed word embeddings, like GLOVE, the simple classification also have poor performance since the high dimensional vector is too sparse and hard to fit for the logistic and naive bayes. Also, the highly unbalanced label lead to the low F1 score."
   ]
  },
  {
   "cell_type": "code",
   "execution_count": 124,
   "metadata": {},
   "outputs": [
    {
     "name": "stderr",
     "output_type": "stream",
     "text": [
      "d:\\yanbo\\lib\\site-packages\\seaborn\\_decorators.py:36: FutureWarning: Pass the following variable as a keyword arg: x. From version 0.12, the only valid positional argument will be `data`, and passing other arguments without an explicit keyword will result in an error or misinterpretation.\n",
      "  warnings.warn(\n"
     ]
    },
    {
     "data": {
      "text/plain": [
       "Text(0.5, 1.0, 'Number of ham and spam messages')"
      ]
     },
     "execution_count": 124,
     "metadata": {},
     "output_type": "execute_result"
    },
    {
     "data": {
      "image/png": "[encoded data removed]",
      "text/plain": [
       "<Figure size 432x288 with 1 Axes>"
      ]
     },
     "metadata": {
      "needs_background": "light"
     },
     "output_type": "display_data"
    }
   ],
   "source": [
    "# visualize the data\n",
    "sns.countplot(data['label'])\n",
    "plt.xlabel('label')\n",
    "plt.title('Number of ham and spam messages')\n",
    " "
   ]
  },
  {
   "cell_type": "code",
   "execution_count": 125,
   "metadata": {},
   "outputs": [
    {
     "name": "stdout",
     "output_type": "stream",
     "text": [
      "(13891, 1000)\n",
      "(13891, 25537)\n"
     ]
    }
   ],
   "source": [
    "# chi square test of bow\n",
    "from sklearn.feature_selection import chi2, SelectKBest\n",
    "bow = cv.fit_transform(X_train)\n",
    "selector = SelectKBest(chi2, k=1000)\n",
    "X_new = selector.fit_transform(bow, y_train)\n",
    "print(X_new.shape)\n",
    "print(bow.shape)"
   ]
  },
  {
   "cell_type": "code",
   "execution_count": 126,
   "metadata": {},
   "outputs": [
    {
     "name": "stdout",
     "output_type": "stream",
     "text": [
      "(13891, 1000)\n",
      "(13891, 25537)\n"
     ]
    },
    {
     "name": "stderr",
     "output_type": "stream",
     "text": [
      "d:\\yanbo\\lib\\site-packages\\seaborn\\_decorators.py:36: FutureWarning: Pass the following variable as a keyword arg: x. From version 0.12, the only valid positional argument will be `data`, and passing other arguments without an explicit keyword will result in an error or misinterpretation.\n",
      "  warnings.warn(\n"
     ]
    },
    {
     "data": {
      "image/png": "[encoded data removed]",
      "text/plain": [
       "<Figure size 432x288 with 1 Axes>"
      ]
     },
     "metadata": {
      "needs_background": "light"
     },
     "output_type": "display_data"
    }
   ],
   "source": [
    "# visualize the \n",
    "X_train_counts = selector.get_feature_names_out()\n",
    "# print(X_train_counts)\n",
    "\n",
    "# visualize the data\n",
    "sns.countplot(data['label'])\n",
    "plt.xlabel('label')\n",
    "plt.title('Number of ham and spam messages')\n",
    "\n",
    "# chi square test of bow\n",
    "from sklearn.feature_selection import chi2, SelectKBest\n",
    "selector = SelectKBest(chi2, k=1000)\n",
    "X_new = selector.fit_transform(bow, y_train)\n",
    "print(X_new.shape)\n",
    "print(bow.shape)\n",
    "\n",
    "# visualize the\n",
    "X_train_counts = selector.get_feature_names_out()\n",
    "# print(X_train_counts)"
   ]
  }
 ],
 "metadata": {
  "kernelspec": {
   "display_name": "Python 3.7.0 ('base')",
   "language": "python",
   "name": "python3"
  },
  "language_info": {
   "codemirror_mode": {
    "name": "ipython",
    "version": 3
   },
   "file_extension": ".py",
   "mimetype": "text/x-python",
   "name": "python",
   "nbconvert_exporter": "python",
   "pygments_lexer": "ipython3",
   "version": "3.9.7"
  },
  "orig_nbformat": 4,
  "vscode": {
   "interpreter": {
    "hash": "62188d19908f918cf10fcd1b1150a9c30d25075561dd8e8aaaefd80df63a4ed7"
   }
  }
 },
 "nbformat": 4,
 "nbformat_minor": 2
}
