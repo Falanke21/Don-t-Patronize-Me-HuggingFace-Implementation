{
 "cells": [
  {
   "cell_type": "code",
   "execution_count": 16,
   "metadata": {},
   "outputs": [],
   "source": [
    "import torch\n",
    "import torch.nn as nn\n",
    "import torch.nn.functional as F\n",
    "import pandas as pd\n",
    "import numpy as np\n",
    "import matplotlib.pyplot as plt\n",
    "import seaborn as sns\n"
   ]
  },
  {
   "cell_type": "code",
   "execution_count": 17,
   "metadata": {},
   "outputs": [
    {
     "data": {
      "text/html": [
       "<div>\n",
       "<style scoped>\n",
       "    .dataframe tbody tr th:only-of-type {\n",
       "        vertical-align: middle;\n",
       "    }\n",
       "\n",
       "    .dataframe tbody tr th {\n",
       "        vertical-align: top;\n",
       "    }\n",
       "\n",
       "    .dataframe thead th {\n",
       "        text-align: right;\n",
       "    }\n",
       "</style>\n",
       "<table border=\"1\" class=\"dataframe\">\n",
       "  <thead>\n",
       "    <tr style=\"text-align: right;\">\n",
       "      <th></th>\n",
       "      <th>text</th>\n",
       "      <th>label</th>\n",
       "    </tr>\n",
       "  </thead>\n",
       "  <tbody>\n",
       "    <tr>\n",
       "      <th>0</th>\n",
       "      <td>The fact that every single major department of...</td>\n",
       "      <td>0</td>\n",
       "    </tr>\n",
       "    <tr>\n",
       "      <th>1</th>\n",
       "      <td>He added that himself and families and women i...</td>\n",
       "      <td>0</td>\n",
       "    </tr>\n",
       "    <tr>\n",
       "      <th>2</th>\n",
       "      <td>BTW , here 's a statement which our apex court...</td>\n",
       "      <td>0</td>\n",
       "    </tr>\n",
       "    <tr>\n",
       "      <th>3</th>\n",
       "      <td>Hospitals fill as Rohingya refugees shiver thr...</td>\n",
       "      <td>1</td>\n",
       "    </tr>\n",
       "    <tr>\n",
       "      <th>4</th>\n",
       "      <td>But in pregnant women it can cause microcephal...</td>\n",
       "      <td>0</td>\n",
       "    </tr>\n",
       "  </tbody>\n",
       "</table>\n",
       "</div>"
      ],
      "text/plain": [
       "                                                text  label\n",
       "0  The fact that every single major department of...      0\n",
       "1  He added that himself and families and women i...      0\n",
       "2  BTW , here 's a statement which our apex court...      0\n",
       "3  Hospitals fill as Rohingya refugees shiver thr...      1\n",
       "4  But in pregnant women it can cause microcephal...      0"
      ]
     },
     "execution_count": 17,
     "metadata": {},
     "output_type": "execute_result"
    }
   ],
   "source": [
    "data = pd.read_csv('./datasets/train_data.csv')\n",
    "data.head()"
   ]
  },
  {
   "attachments": {},
   "cell_type": "markdown",
   "metadata": {},
   "source": [
    "Bag of words model\n",
    "Naive Bayesian Classification"
   ]
  },
  {
   "cell_type": "code",
   "execution_count": 18,
   "metadata": {},
   "outputs": [],
   "source": [
    "# bag of words\n",
    "from sklearn.feature_extraction.text import CountVectorizer\n",
    "cv = CountVectorizer()\n",
    "# X = cv.fit_transform(data['text']).toarray()\n",
    "# y = data['label'].values\n",
    "\n",
    "# train test split\n",
    "from sklearn.model_selection import train_test_split\n",
    "train_data = pd.read_csv('./datasets/train_data.csv')\n",
    "test_data = pd.read_csv('./datasets/test_data.csv')\n",
    "\n",
    "\n"
   ]
  },
  {
   "cell_type": "code",
   "execution_count": null,
   "metadata": {},
   "outputs": [],
   "source": []
  },
  {
   "cell_type": "code",
   "execution_count": 19,
   "metadata": {},
   "outputs": [
    {
     "name": "stdout",
     "output_type": "stream",
     "text": [
      "text     0\n",
      "label    0\n",
      "dtype: int64\n",
      "text     0\n",
      "label    0\n",
      "dtype: int64\n",
      "(7537, 25537)\n"
     ]
    }
   ],
   "source": [
    "# find the null values and remove them\n",
    "print(train_data.isnull().sum())\n",
    "train_data.dropna(inplace=True)\n",
    "test_data.dropna(inplace=True)\n",
    "# find the null values and remove them\n",
    "print(test_data.isnull().sum())\n",
    "X_train, y_train = train_data['text'], train_data['label']\n",
    "X_test, y_test = test_data['text'], test_data['label']\n",
    "\n",
    "\n"
   ]
  },
  {
   "cell_type": "markdown",
   "metadata": {},
   "source": [
    "### Downsampling"
   ]
  },
  {
   "cell_type": "code",
   "execution_count": 164,
   "metadata": {},
   "outputs": [],
   "source": [
    "# extract the data with 0 label, the same snumber of 1 label\n",
    "# and combine them together\n",
    "# 0 label\n",
    "data_0 = train_data[train_data['label'] == 0]\n",
    "# 1 label\n",
    "data_1 = train_data[train_data['label'] == 1]\n",
    "# combine them together\n",
    "n = int(len(data_1)*2)\n",
    "data_0 = data_0.sample(n , random_state=42)\n",
    "data = pd.concat([data_0, data_1], axis=0)\n",
    "data = data.sample(frac=1).reset_index(drop=True)\n",
    "# data.head()\n",
    "# print(data[data['label'] == 1].count())\n",
    "X_train, y_train = data['text'], data['label']"
   ]
  },
  {
   "cell_type": "markdown",
   "metadata": {},
   "source": [
    "### Upsampling"
   ]
  },
  {
   "cell_type": "code",
   "execution_count": 165,
   "metadata": {},
   "outputs": [],
   "source": [
    "# data_0 = train_data[train_data['label'] == 0]\n",
    "# # 1 label\n",
    "# data_1 = train_data[train_data['label'] == 1]\n",
    "\n",
    "# data = pd.concat([data_0, data_1], axis=0)\n",
    "# for i in range(9):\n",
    "#     data = pd.concat([data, data_1], axis=0)\n",
    "# X_train, y_train = data['text'], data['label']"
   ]
  },
  {
   "cell_type": "code",
   "execution_count": 166,
   "metadata": {},
   "outputs": [
    {
     "name": "stdout",
     "output_type": "stream",
     "text": [
      "(2400, 13687)\n"
     ]
    }
   ],
   "source": [
    "\n",
    "test_data.dropna(inplace=True)\n",
    "bow = cv.fit_transform(X_train)\n",
    "print(bow.shape)\n",
    "\n"
   ]
  },
  {
   "cell_type": "code",
   "execution_count": null,
   "metadata": {},
   "outputs": [],
   "source": []
  },
  {
   "cell_type": "code",
   "execution_count": 167,
   "metadata": {},
   "outputs": [
    {
     "name": "stdout",
     "output_type": "stream",
     "text": [
      "accuracy:  0.8533205924510272\n",
      "F1 score:  0.3481953290870488\n"
     ]
    }
   ],
   "source": [
    "# naive bayes\n",
    "from sklearn.naive_bayes import MultinomialNB\n",
    "model = MultinomialNB()\n",
    "model.fit(bow, y_train)\n",
    "\n",
    "# test\n",
    "test_bow = cv.transform(X_test)\n",
    "print(\"accuracy: \", model.score(test_bow, y_test))\n",
    "# F1 score\n",
    "from sklearn.metrics import f1_score\n",
    "y_pred = model.predict(test_bow)\n",
    "print(\"F1 score: \", f1_score(y_test, y_pred))\n",
    "\n"
   ]
  },
  {
   "cell_type": "code",
   "execution_count": null,
   "metadata": {},
   "outputs": [],
   "source": []
  },
  {
   "cell_type": "code",
   "execution_count": 168,
   "metadata": {},
   "outputs": [
    {
     "name": "stdout",
     "output_type": "stream",
     "text": [
      "accuracy:  0.8842482100238663\n",
      "F1 score:  0.45197740112994345\n"
     ]
    }
   ],
   "source": [
    "val_data = pd.read_csv('./datasets/val_data.csv')\n",
    "val_data.dropna(inplace=True)\n",
    "X_val, y_val = val_data['text'], val_data['label']\n",
    "val_bow = cv.transform(X_val)\n",
    "print(\"accuracy: \", model.score(val_bow, y_val))\n",
    "# F1 score\n",
    "from sklearn.metrics import f1_score\n",
    "y_pred = model.predict(val_bow)\n",
    "print(\"F1 score: \", f1_score(y_val, y_pred))\n"
   ]
  },
  {
   "attachments": {},
   "cell_type": "markdown",
   "metadata": {},
   "source": [
    "Baseline 2: Logistic Regression"
   ]
  },
  {
   "cell_type": "code",
   "execution_count": 169,
   "metadata": {},
   "outputs": [
    {
     "name": "stdout",
     "output_type": "stream",
     "text": [
      "accuracy:  0.8375537505972288\n",
      "F1 score:  0.36090225563909767\n"
     ]
    },
    {
     "name": "stderr",
     "output_type": "stream",
     "text": [
      "/Users/yanbo/opt/anaconda3/lib/python3.7/site-packages/sklearn/linear_model/_logistic.py:818: ConvergenceWarning: lbfgs failed to converge (status=1):\n",
      "STOP: TOTAL NO. of ITERATIONS REACHED LIMIT.\n",
      "\n",
      "Increase the number of iterations (max_iter) or scale the data as shown in:\n",
      "    https://scikit-learn.org/stable/modules/preprocessing.html\n",
      "Please also refer to the documentation for alternative solver options:\n",
      "    https://scikit-learn.org/stable/modules/linear_model.html#logistic-regression\n",
      "  extra_warning_msg=_LOGISTIC_SOLVER_CONVERGENCE_MSG,\n"
     ]
    }
   ],
   "source": [
    "# logistic regression\n",
    "from sklearn.linear_model import LogisticRegression\n",
    "model = LogisticRegression()\n",
    "model.fit(bow, y_train)\n",
    "\n",
    "# test\n",
    "test_bow = cv.transform(X_test)\n",
    "print(\"accuracy: \", model.score(test_bow, y_test))\n",
    "# F1 score\n",
    "from sklearn.metrics import f1_score\n",
    "y_pred = model.predict(test_bow)\n",
    "print(\"F1 score: \", f1_score(y_test, y_pred))\n"
   ]
  },
  {
   "cell_type": "code",
   "execution_count": 170,
   "metadata": {},
   "outputs": [
    {
     "name": "stdout",
     "output_type": "stream",
     "text": [
      "accuracy:  0.8460620525059666\n",
      "F1 score:  0.4\n"
     ]
    }
   ],
   "source": [
    "val_bow = cv.transform(X_val)\n",
    "print(\"accuracy: \", model.score(val_bow, y_val))\n",
    "# F1 score\n",
    "from sklearn.metrics import f1_score\n",
    "y_pred = model.predict(val_bow)\n",
    "print(\"F1 score: \", f1_score(y_val, y_pred))\n"
   ]
  },
  {
   "cell_type": "code",
   "execution_count": 171,
   "metadata": {},
   "outputs": [
    {
     "name": "stdout",
     "output_type": "stream",
     "text": [
      "Found 400000 word vectors.\n",
      "accuracy:  0.8170090778786431\n",
      "F1 score:  0.3172905525846702\n"
     ]
    },
    {
     "name": "stderr",
     "output_type": "stream",
     "text": [
      "/Users/yanbo/opt/anaconda3/lib/python3.7/site-packages/sklearn/linear_model/_logistic.py:818: ConvergenceWarning: lbfgs failed to converge (status=1):\n",
      "STOP: TOTAL NO. of ITERATIONS REACHED LIMIT.\n",
      "\n",
      "Increase the number of iterations (max_iter) or scale the data as shown in:\n",
      "    https://scikit-learn.org/stable/modules/preprocessing.html\n",
      "Please also refer to the documentation for alternative solver options:\n",
      "    https://scikit-learn.org/stable/modules/linear_model.html#logistic-regression\n",
      "  extra_warning_msg=_LOGISTIC_SOLVER_CONVERGENCE_MSG,\n"
     ]
    }
   ],
   "source": [
    "# # use glove\n",
    "# import numpy as np\n",
    "# embeddings_index = {}\n",
    "# f = open('./glove.6B.100d.txt', encoding=\"utf8\")\n",
    "# for line in f:\n",
    "#     values = line.split()\n",
    "#     word = values[0]\n",
    "#     coefs = np.asarray(values[1:], dtype='float32')\n",
    "#     embeddings_index[word] = coefs\n",
    "# f.close()\n",
    "\n",
    "# print('Found %s word vectors.' % len(embeddings_index))\n",
    "\n",
    "# X_train_glove = []\n",
    "# for sentence in X_train:\n",
    "#     words = sentence.split()\n",
    "#     sentence_vec = np.zeros(100)\n",
    "#     for word in words:\n",
    "#         if word in embeddings_index:\n",
    "#             sentence_vec += embeddings_index[word]\n",
    "#     X_train_glove.append(sentence_vec)\n",
    "    \n",
    "# model = LogisticRegression()\n",
    "# model.fit(X_train_glove, y_train)\n",
    "\n",
    "# X_test_glove = []\n",
    "# for sentence in X_test:\n",
    "#     words = sentence.split()\n",
    "#     sentence_vec = np.zeros(100)\n",
    "#     for word in words:\n",
    "#         if word in embeddings_index:\n",
    "#             sentence_vec += embeddings_index[word]\n",
    "#     X_test_glove.append(sentence_vec)\n",
    "\n",
    "# print(\"accuracy: \", model.score(X_test_glove, y_test))\n",
    "# # F1 score\n",
    "# from sklearn.metrics import f1_score\n",
    "# y_pred = model.predict(X_test_glove)\n",
    "# print(\"F1 score: \", f1_score(y_test, y_pred))\n",
    "\n"
   ]
  },
  {
   "attachments": {},
   "cell_type": "markdown",
   "metadata": {},
   "source": [
    "It obviouse that the naive way cannot handle the classification on this task, for the bag of words. The logistic classification has better performance than the naive bayesian. Also, if we use the pre-trianed word embeddings, like GLOVE, the simple classification also have poor performance since the high dimensional vector is too sparse and hard to fit for the logistic and naive bayes. Also, the highly unbalanced label lead to the low F1 score."
   ]
  },
  {
   "cell_type": "code",
   "execution_count": 172,
   "metadata": {},
   "outputs": [
    {
     "data": {
      "text/plain": [
       "Text(0.5, 1.0, 'Number of ham and spam messages')"
      ]
     },
     "execution_count": 172,
     "metadata": {},
     "output_type": "execute_result"
    },
    {
     "data": {
      "image/png": "[encoded data removed]",
      "text/plain": [
       "<Figure size 432x288 with 1 Axes>"
      ]
     },
     "metadata": {
      "needs_background": "light"
     },
     "output_type": "display_data"
    }
   ],
   "source": [
    "# visualize the data\n",
    "sns.countplot(data['label'])\n",
    "plt.xlabel('label')\n",
    "plt.title('Number of ham and spam messages')\n",
    " "
   ]
  },
  {
   "cell_type": "code",
   "execution_count": 173,
   "metadata": {},
   "outputs": [
    {
     "name": "stdout",
     "output_type": "stream",
     "text": [
      "(2400, 1000)\n",
      "(2400, 13687)\n"
     ]
    }
   ],
   "source": [
    "# chi square test of bow\n",
    "from sklearn.feature_selection import chi2, SelectKBest\n",
    "selector = SelectKBest(chi2, k=1000)\n",
    "X_new = selector.fit_transform(bow, y_train)\n",
    "print(X_new.shape)\n",
    "print(bow.shape)"
   ]
  },
  {
   "cell_type": "code",
   "execution_count": 174,
   "metadata": {},
   "outputs": [
    {
     "name": "stdout",
     "output_type": "stream",
     "text": [
      "(2400, 1000)\n",
      "(2400, 13687)\n"
     ]
    },
    {
     "data": {
      "image/png": "[encoded data removed]",
      "text/plain": [
       "<Figure size 432x288 with 1 Axes>"
      ]
     },
     "metadata": {
      "needs_background": "light"
     },
     "output_type": "display_data"
    }
   ],
   "source": [
    "# visualize the \n",
    "X_train_counts = selector.get_feature_names_out()\n",
    "# print(X_train_counts)\n",
    "\n",
    "# visualize the data\n",
    "sns.countplot(data['label'])\n",
    "plt.xlabel('label')\n",
    "plt.title('Number of ham and spam messages')\n",
    "\n",
    "# chi square test of bow\n",
    "from sklearn.feature_selection import chi2, SelectKBest\n",
    "selector = SelectKBest(chi2, k=1000)\n",
    "X_new = selector.fit_transform(bow, y_train)\n",
    "print(X_new.shape)\n",
    "print(bow.shape)\n",
    "\n",
    "# visualize the\n",
    "X_train_counts = selector.get_feature_names_out()\n",
    "# print(X_train_counts)"
   ]
  }
 ],
 "metadata": {
  "kernelspec": {
   "display_name": "Python 3.7.0 ('base')",
   "language": "python",
   "name": "python3"
  },
  "language_info": {
   "codemirror_mode": {
    "name": "ipython",
    "version": 3
   },
   "file_extension": ".py",
   "mimetype": "text/x-python",
   "name": "python",
   "nbconvert_exporter": "python",
   "pygments_lexer": "ipython3",
   "version": "3.7.0"
  },
  "orig_nbformat": 4,
  "vscode": {
   "interpreter": {
    "hash": "62188d19908f918cf10fcd1b1150a9c30d25075561dd8e8aaaefd80df63a4ed7"
   }
  }
 },
 "nbformat": 4,
 "nbformat_minor": 2
}
