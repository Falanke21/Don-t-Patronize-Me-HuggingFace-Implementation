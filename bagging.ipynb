{
 "cells": [
  {
   "cell_type": "code",
   "execution_count": 19,
   "metadata": {},
   "outputs": [],
   "source": [
    "import pandas as pd\n",
    "import numpy as np\n",
    "import torch"
   ]
  },
  {
   "cell_type": "code",
   "execution_count": 20,
   "metadata": {},
   "outputs": [],
   "source": [
    "data_dir = './datasets/'"
   ]
  },
  {
   "cell_type": "code",
   "execution_count": 21,
   "metadata": {},
   "outputs": [],
   "source": [
    "original_train_data = pd.read_csv(data_dir + 'train_data.csv')\n",
    "#augmented_train_data = pd.read_csv(data_dir + 'augmented_data_label_1_pegasus.csv')\n",
    "augmented_train_data = pd.read_csv(data_dir + 'augmented_data_label_1_parrot.csv')\n",
    "train_data = pd.concat([original_train_data, augmented_train_data], axis=0)"
   ]
  },
  {
   "cell_type": "code",
   "execution_count": 22,
   "metadata": {},
   "outputs": [],
   "source": [
    "# create 5 balanced sub-datasets for bagging\n",
    "num_sub_datasets = 5\n",
    "train_data_list = []\n",
    "\n",
    "ones = train_data[train_data['label'] == 1]\n",
    "zeros = train_data[train_data['label'] == 0]\n",
    "num = len(ones)\n",
    "\n",
    "for i in range(num_sub_datasets):\n",
    "    train_data_list.append(pd.concat([ones, zeros.sample(n=num, random_state=i)], axis=0))"
   ]
  },
  {
   "cell_type": "code",
   "execution_count": 23,
   "metadata": {},
   "outputs": [
    {
     "data": {
      "text/plain": [
       "1    2099\n",
       "0    2099\n",
       "Name: label, dtype: int64"
      ]
     },
     "execution_count": 23,
     "metadata": {},
     "output_type": "execute_result"
    }
   ],
   "source": [
    "train_data_list[0]['label'].value_counts()"
   ]
  },
  {
   "cell_type": "code",
   "execution_count": 24,
   "metadata": {},
   "outputs": [
    {
     "data": {
      "text/plain": [
       "'\\nTODO\\n1. train the same model on 5 sub-datasets.\\n2. predict labels using the 5 models (voting).\\n3. calculate the accuracy and f1 score of the voting result.\\n'"
      ]
     },
     "execution_count": 24,
     "metadata": {},
     "output_type": "execute_result"
    }
   ],
   "source": [
    "'''\n",
    "TODO\n",
    "1. train the same model on 5 sub-datasets.\n",
    "2. predict labels using the 5 models (voting).\n",
    "3. calculate the accuracy and f1 score of the voting result.\n",
    "'''"
   ]
  }
 ],
 "metadata": {
  "kernelspec": {
   "display_name": "pytorch",
   "language": "python",
   "name": "python3"
  },
  "language_info": {
   "codemirror_mode": {
    "name": "ipython",
    "version": 3
   },
   "file_extension": ".py",
   "mimetype": "text/x-python",
   "name": "python",
   "nbconvert_exporter": "python",
   "pygments_lexer": "ipython3",
   "version": "3.9.12"
  },
  "orig_nbformat": 4,
  "vscode": {
   "interpreter": {
    "hash": "9bf3454d8134cf31c53930b86a97c38f4c38d2a7205730a8063b2bb452273ba7"
   }
  }
 },
 "nbformat": 4,
 "nbformat_minor": 2
}
